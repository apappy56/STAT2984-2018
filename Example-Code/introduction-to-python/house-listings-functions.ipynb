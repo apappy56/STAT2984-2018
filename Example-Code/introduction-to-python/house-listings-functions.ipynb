{
 "cells": [
  {
   "cell_type": "code",
   "execution_count": null,
   "metadata": {
    "collapsed": true
   },
   "outputs": [],
   "source": [
    "# read in the data\n",
    "# we will go over these blocks of code\n",
    "# in a few weeks\n",
    "raw_housing_prices = open('housing-prices.txt','r').readlines()\n",
    "\n",
    "# extract column names and create\n",
    "# a list of lists for the data\n",
    "# and a dictionary of lists for the data\n",
    "header = raw_housing_prices[0].split('\\t')\n",
    "housing_prices_list = []\n",
    "housing_prices_dict = {}\n",
    "for line in raw_housing_prices[1:]:\n",
    "    datum = [float(a) for a in line.split('\\t')]\n",
    "    housing_prices_list.append(datum)\n",
    "    for i,a in enumerate(header):\n",
    "        if a not in housing_prices_dict:\n",
    "            housing_prices_dict[a] = []\n",
    "        housing_prices_dict[a].append(datum[i])"
   ]
  },
  {
   "cell_type": "raw",
   "metadata": {},
   "source": [
    "# summarize the data\n",
    "def summary_stat(values, verbose=False):\n",
    "    # summary_stat\n",
    "    #\n",
    "    # :param values: list of numbers that should be summarized\n",
    "    # :param verbose: optional parameter to print out more information (default=False)\n",
    "    #\n",
    "    # :return: a tuple of (min, max, mean)\n",
    "    \n",
    "    # calculate summary stats\n",
    "    min_val = min(values)\n",
    "    max_val = max(values)\n",
    "    mean_val = 1.*sum(values)/len(values) # added the 1. to avoid integer by integer division\n",
    "    \n",
    "    # if verbose\n",
    "    if verbose:\n",
    "        print \"Minimum:\", min_val\n",
    "        print \"Maximum:\", max_val\n",
    "        print \"Mean:\", mean_val\n",
    "        \n",
    "    # return values\n",
    "    return min_val, max_val, mean_val\n",
    "\n",
    "\n",
    "for variable in housing_prices_dict.keys():\n",
    "    print variable\n",
    "    min_val, max_val, mean_val = summary_stat(housing_prices_dict[variable], verbose=True)"
   ]
  },
  {
   "cell_type": "code",
   "execution_count": null,
   "metadata": {},
   "outputs": [],
   "source": [
    "# Summarize all variables for houses over 2000 sqft\n",
    "# by including the mean, min, max, and median\n",
    "\n",
    "def subset_data(data, subset_variable, subset_value, verbose=False):\n",
    "    # subset_data\n",
    "    #\n",
    "    # :param data: dictionary of data such that keys are variables and values are data values\n",
    "    # :param subset_variable: the name (string) of the variable we want to subset on\n",
    "    # :param subset_value: the value for which we want to subset\n",
    "    # \n",
    "    # :return: dictionary containg the subset of the full data set\n",
    "    \n",
    "    \n",
    "    # store the index of houses with greater than 2000 sqft\n",
    "    index_of_houses = []\n",
    "    # current index\n",
    "    ind = 0\n",
    "    for sqft in data[subset_variable]:\n",
    "        if sqft >= subset_value:\n",
    "            # add index to list\n",
    "            index_of_houses.append(ind)\n",
    "        # increment our current index\n",
    "        ind += 1\n",
    "    \n",
    "    # create a new dictionary for the subset of the data we are interested in\n",
    "    subset_dict = {}\n",
    "    \n",
    "    # summarize variables for houses greater than 2000 sqft    \n",
    "    for variable in data.keys():\n",
    "        # initialize a subset list to keep track of values for large houses\n",
    "        subset_variable = []\n",
    "        for i in index_of_houses:\n",
    "            subset_variable.append(data[variable][i])\n",
    "\n",
    "            \n",
    "        subset_dict[variable] = subset_variable    \n",
    "        # print the summary of the variable (min, max, mean)    \n",
    "        print variable\n",
    "        min_val, max_val, mean_val = summary_stat(subset_variable, verbose=verbose)\n",
    "\n",
    "    return subset_dict\n",
    "\n",
    "subset_data_living = subset_data(housing_prices_dict, 'Living.Area',2000)"
   ]
  },
  {
   "cell_type": "code",
   "execution_count": 8,
   "metadata": {},
   "outputs": [
    {
     "name": "stdout",
     "output_type": "stream",
     "text": [
      "Living.Area\n",
      "Minimum: 2000.0\n",
      "Maximum: 5228.0\n",
      "Mean: 2582.33427762\n",
      "Bathrooms\n",
      "Minimum: 1.0\n",
      "Maximum: 4.5\n",
      "Mean: 2.50708215297\n",
      "Fireplaces\n",
      "Minimum: 0.0\n",
      "Maximum: 4.0\n",
      "Mean: 0.929178470255\n",
      "Price\n",
      "Minimum: 59003.0\n",
      "Maximum: 599701.0\n",
      "Mean: 235899.640227\n",
      "Bedrooms\n",
      "Minimum: 2.0\n",
      "Maximum: 5.0\n",
      "Mean: 3.79603399433\n",
      "Age\n",
      "\n",
      "Minimum: 0.0\n",
      "Maximum: 233.0\n",
      "Mean: 15.8413597734\n"
     ]
    }
   ],
   "source": [
    "for variable in subset_data_living.keys():\n",
    "    print variable\n",
    "    min_val, max_val, mean_val = summary_stat(subset_data_living[variable], verbose=True)"
   ]
  },
  {
   "cell_type": "code",
   "execution_count": null,
   "metadata": {
    "collapsed": true
   },
   "outputs": [],
   "source": []
  }
 ],
 "metadata": {
  "celltoolbar": "Edit Metadata",
  "kernelspec": {
   "display_name": "Python 2",
   "language": "python",
   "name": "python2"
  },
  "language_info": {
   "codemirror_mode": {
    "name": "ipython",
    "version": 2
   },
   "file_extension": ".py",
   "mimetype": "text/x-python",
   "name": "python",
   "nbconvert_exporter": "python",
   "pygments_lexer": "ipython2",
   "version": "2.7.14"
  }
 },
 "nbformat": 4,
 "nbformat_minor": 2
}
