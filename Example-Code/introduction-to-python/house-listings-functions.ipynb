{
 "cells": [
  {
   "cell_type": "code",
   "execution_count": null,
   "metadata": {
    "collapsed": true
   },
   "outputs": [],
   "source": [
    "# read in the data\n",
    "# we will go over these blocks of code\n",
    "# in a few weeks\n",
    "raw_housing_prices = open('housing-prices.txt','r').readlines()\n",
    "\n",
    "# extract column names and create\n",
    "# a list of lists for the data\n",
    "# and a dictionary of lists for the data\n",
    "header = raw_housing_prices[0].split('\\t')\n",
    "housing_prices_list = []\n",
    "housing_prices_dict = {}\n",
    "for line in raw_housing_prices[1:]:\n",
    "    datum = [float(a) for a in line.split('\\t')]\n",
    "    housing_prices_list.append(datum)\n",
    "    for i,a in enumerate(header):\n",
    "        if a not in housing_prices_dict:\n",
    "            housing_prices_dict[a] = []\n",
    "        housing_prices_dict[a].append(datum[i])"
   ]
  }
 ],
 "metadata": {
  "kernelspec": {
   "display_name": "Python 2",
   "language": "python",
   "name": "python2"
  },
  "language_info": {
   "codemirror_mode": {
    "name": "ipython",
    "version": 2
   },
   "file_extension": ".py",
   "mimetype": "text/x-python",
   "name": "python",
   "nbconvert_exporter": "python",
   "pygments_lexer": "ipython2",
   "version": "2.7.14"
  }
 },
 "nbformat": 4,
 "nbformat_minor": 2
}
