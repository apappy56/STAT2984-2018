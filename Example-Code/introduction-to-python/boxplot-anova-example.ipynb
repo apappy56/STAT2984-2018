{
 "cells": [
  {
   "cell_type": "code",
   "execution_count": 3,
   "metadata": {},
   "outputs": [
    {
     "name": "stdout",
     "output_type": "stream",
     "text": [
      "['Price', 'Living.Area', 'Bedrooms', 'Bathrooms', 'Fireplaces', 'Age\\n']\n"
     ]
    }
   ],
   "source": [
    "import numpy as np\n",
    "import matplotlib.pyplot as plt\n",
    "import matplotlib.cbook as cbook\n",
    "\n",
    "# read in the data\n",
    "# we will go over these blocks of code\n",
    "# in a few weeks\n",
    "raw_housing_prices = open('housing-prices.txt','r').readlines()\n",
    "\n",
    "# extract column names and create\n",
    "# a list of lists for the data\n",
    "# and a dictionary of lists for the data\n",
    "header = raw_housing_prices[0].split('\\t')\n",
    "housing_prices_list = []\n",
    "housing_prices_dict = {}\n",
    "for line in raw_housing_prices[1:]:\n",
    "    datum = [float(a) for a in line.split('\\t')]\n",
    "    housing_prices_list.append(datum)\n",
    "    for i,a in enumerate(header):\n",
    "        if a not in housing_prices_dict:\n",
    "            housing_prices_dict[a] = []\n",
    "        housing_prices_dict[a].append(datum[i])\n",
    "print header"
   ]
  },
  {
   "cell_type": "code",
   "execution_count": 29,
   "metadata": {},
   "outputs": [
    {
     "name": "stdout",
     "output_type": "stream",
     "text": [
      "['5.0 Bed', '4.0 Bed', '3.0 Bed', '2.0 Bed', '1.0 Bed']\n"
     ]
    }
   ],
   "source": [
    "# organize data into a format that is manageable for plots and anova\n",
    "\n",
    "# make dictionary \n",
    "dict_by_bed = {}\n",
    "# go through set of bedrooms\n",
    "for bed in set(housing_prices_dict['Bedrooms']):\n",
    "    # create a new key for each number of bedrooms\n",
    "    dict_by_bed[bed] = []\n",
    "\n",
    "    \n",
    "# for each house prices\n",
    "for i,price in enumerate(housing_prices_dict['Price']):\n",
    "    # append the price to the dictionary by number of bedrooms\n",
    "    dict_by_bed[housing_prices_dict['Bedrooms'][i]].append(price)\n",
    "    \n",
    "# create an empty list to add data\n",
    "data = []\n",
    "labels = []\n",
    "for bed in sorted(dict_by_bed, reverse=True):\n",
    "    labels.append(str(bed) + ' Bed')\n",
    "    data.append(dict_by_bed[bed])\n",
    "\n",
    "print labels"
   ]
  },
  {
   "cell_type": "code",
   "execution_count": 30,
   "metadata": {},
   "outputs": [
    {
     "data": {
      "image/png": "[encoded data removed]",
      "text/plain": [
       "<matplotlib.figure.Figure at 0x10dd38550>"
      ]
     },
     "metadata": {},
     "output_type": "display_data"
    }
   ],
   "source": [
    "# draw a boxplot displaying the house prices (y-axis)\n",
    "# by number of bedrooms (x-axis)\n",
    "\n",
    "# create figure object\n",
    "fig, axes = plt.subplots(nrows=1, ncols=1, figsize=(9, 4))\n",
    "bplot1 = axes.boxplot(data,\n",
    "                         vert=True,   # vertical box aligmnent\n",
    "                         patch_artist=True)   # fill with color\n",
    "\n",
    "# add x-tick labels\n",
    "plt.setp(axes, xticks=[y+1 for y in range(len(data))],\n",
    "         xticklabels=labels)\n",
    "\n",
    "# add y-axis label\n",
    "axes.set_ylabel('Prices')\n",
    "\n",
    "plt.show()"
   ]
  },
  {
   "cell_type": "code",
   "execution_count": 19,
   "metadata": {},
   "outputs": [
    {
     "data": {
      "text/plain": [
       "[0, 1, 2, 3, 4]"
      ]
     },
     "execution_count": 19,
     "metadata": {},
     "output_type": "execute_result"
    }
   ],
   "source": [
    "range(len(data))"
   ]
  },
  {
   "cell_type": "code",
   "execution_count": 33,
   "metadata": {},
   "outputs": [],
   "source": [
    "# Run an anova analysis on the data previously plotted\n",
    "\n",
    "from scipy import stats\n",
    " \n",
    "F, p = stats.f_oneway(data[0], data[1], data[2], data[3], data[4])"
   ]
  },
  {
   "cell_type": "code",
   "execution_count": 39,
   "metadata": {},
   "outputs": [
    {
     "name": "stdout",
     "output_type": "stream",
     "text": [
      "F-statistic: 77.03\n",
      "p-value: 2.50e-57\n"
     ]
    }
   ],
   "source": [
    "print \"F-statistic: %.2f\\np-value: %.2e\"%(F,p)"
   ]
  },
  {
   "cell_type": "code",
   "execution_count": 47,
   "metadata": {},
   "outputs": [
    {
     "data": {
      "image/png": "[encoded data removed]",
      "text/plain": [
       "<matplotlib.figure.Figure at 0x10db6f510>"
      ]
     },
     "metadata": {},
     "output_type": "display_data"
    }
   ],
   "source": [
    "# draw a boxplot displaying the house prices (y-axis)\n",
    "# by number of bedrooms (x-axis)\n",
    "# include the results of the ANOVA analysis\n",
    "\n",
    "# create figure object\n",
    "fig, axes = plt.subplots(nrows=1, ncols=1, figsize=(9, 4))\n",
    "bplot1 = axes.boxplot(data,\n",
    "                         vert=True,   # vertical box aligmnent\n",
    "                         patch_artist=True)   # fill with color\n",
    "\n",
    "# add x-tick labels\n",
    "plt.setp(axes, xticks=[y+1 for y in range(len(data))],\n",
    "         xticklabels=labels)\n",
    "\n",
    "# add y-axis label\n",
    "axes.set_ylabel('Prices')\n",
    "\n",
    "# add results from anova analysis\n",
    "plt.text(4.3, 500000, \"ANOVA results:\\nF-statistic: %.2f\\np-value: %.2e\"%(F,p))\n",
    "\n",
    "plt.show()"
   ]
  },
  {
   "cell_type": "code",
   "execution_count": null,
   "metadata": {
    "collapsed": true
   },
   "outputs": [],
   "source": []
  }
 ],
 "metadata": {
  "kernelspec": {
   "display_name": "Python 2",
   "language": "python",
   "name": "python2"
  },
  "language_info": {
   "codemirror_mode": {
    "name": "ipython",
    "version": 2
   },
   "file_extension": ".py",
   "mimetype": "text/x-python",
   "name": "python",
   "nbconvert_exporter": "python",
   "pygments_lexer": "ipython2",
   "version": "2.7.14"
  }
 },
 "nbformat": 4,
 "nbformat_minor": 2
}
