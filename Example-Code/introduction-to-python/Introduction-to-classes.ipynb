{
 "cells": [
  {
   "cell_type": "code",
   "execution_count": 59,
   "metadata": {},
   "outputs": [],
   "source": [
    "# data downloaded from https://dasl.datadescription.com/datafile/attendance-2016/\n",
    "\n",
    "class teams:\n",
    "    \"\"\"An example class for baseball teams\"\"\"\n",
    "    \n",
    "    # initialize a new team\n",
    "    def __init__(self, team, league, runs, home_att, home_att_avg, won, lost, road_att_avg, overall_att_avg):\n",
    "        self.team = team.strip('\"')\n",
    "        self.league = league.strip('\"')\n",
    "        self.runs = int(runs)\n",
    "        self.home_att = float(home_att)\n",
    "        self.home_att_avg = float(home_att_avg)\n",
    "        self.won = int(won)\n",
    "        self.lost = int(lost)\n",
    "        self.road_att_avg = float(road_att_avg)\n",
    "        self.overall_att_avg = float(overall_att_avg)\n",
    "        \n",
    "        # players\n",
    "        self.num_players = 25\n",
    "        # injuries\n",
    "        self.injuries = 0\n",
    "        \n",
    "    # print class object\n",
    "    def print_team(self):\n",
    "        print \"Team name:\", self.team\n",
    "        print \"League:\",self.league\n",
    "        print \"Runs\", self.runs\n",
    "        print \"Home attendance:\",self.home_att\n",
    "        print \"Home attendance (Avg):\",self.home_att_avg\n",
    "        print \"Wins:\",self.won\n",
    "        print \"Losses:\", self.lost\n",
    "        print \"Road attendance (Avg):\", self.road_att_avg\n",
    "        print \"Overall attendance (Avg):\", self.overall_att_avg\n",
    "        print \"Number of players on roster:\", self.num_players\n",
    "        print \"Number of injuries:\",self.injuries\n",
    "        return\n",
    "        \n",
    "    # get number of road games\n",
    "    def road_games(self):\n",
    "        road_att = self.overall_att_avg*(self.won + self.lost)- self.home_att\n",
    "        num_road = road_att/self.road_att_avg\n",
    "        return num_road\n",
    "    \n",
    "    # get number home games\n",
    "    def home_games(self):\n",
    "        return self.home_att/self.home_att\n",
    "    \n",
    "    # get total number of games\n",
    "    def total_games(self):\n",
    "        return self.won + self.lost\n",
    "    \n",
    "    # update the stats after the completion of a new game\n",
    "    def update_stats(self, runs, attendance, win_bool, home_bool):\n",
    "        # add a run\n",
    "        self.runs += runs\n",
    "        # add attendance\n",
    "        if home_bool:\n",
    "            self.home_att += attendance\n",
    "            self.home_att_avg = self.home_att/(self.home_games() + 1)\n",
    "        else:\n",
    "            self.road_att_avg = (self.road_att_avg*self.road_games() + attendance)/(self.road_games() + 1)\n",
    "        self.overall_att_avg = self.overall_att_avg*self.total_games()/(self.total_games() + 1)\n",
    "        # add win/lose\n",
    "        if win_bool:\n",
    "            self.won += 1\n",
    "        else:\n",
    "            self.lost += 1\n",
    "\n",
    "        return"
   ]
  },
  {
   "cell_type": "code",
   "execution_count": 46,
   "metadata": {},
   "outputs": [
    {
     "name": "stdout",
     "output_type": "stream",
     "text": [
      "Team name: Stats\n",
      "League: COS\n",
      "Runs 4\n",
      "Home attendance: 45.0\n",
      "Home attendance (Avg): 12.0\n",
      "Wins: 3\n",
      "Losses: 1\n",
      "Road attendance (Avg): 23.0\n",
      "Overall attendance (Avg): 56.0\n",
      "\n",
      "\n",
      "Team name: Stats\n",
      "League: COS\n",
      "Runs 5\n",
      "Home attendance: 45.0\n",
      "Home attendance (Avg): 12.0\n",
      "Wins: 4\n",
      "Losses: 1\n",
      "Road attendance (Avg): 25.504950495\n",
      "Overall attendance (Avg): 44.8\n",
      "1.0\n",
      "7.01824534161\n",
      "5\n"
     ]
    }
   ],
   "source": [
    "a = teams(\"Stats\",\"COS\",4,45,12,3,1,23,56)\n",
    "a.print_team()\n",
    "print '\\n'\n",
    "a.update_stats(1,45,True, False)\n",
    "a.print_team()\n",
    "\n",
    "print a.home_games()\n",
    "print a.road_games()\n",
    "print a.total_games()"
   ]
  },
  {
   "cell_type": "code",
   "execution_count": 60,
   "metadata": {},
   "outputs": [
    {
     "name": "stdout",
     "output_type": "stream",
     "text": [
      "Team name: St Louis Cardinals\n",
      "League: NL\n",
      "Runs 779\n",
      "Home attendance: 3444490.0\n",
      "Home attendance (Avg): 42524.0\n",
      "Wins: 86\n",
      "Losses: 76\n",
      "Road attendance (Avg): 31092.0\n",
      "Overall attendance (Avg): 36844.0\n",
      "Number of players on roster: 25\n",
      "Number of injuries: 0\n"
     ]
    }
   ],
   "source": [
    "# let's read in some real data.\n",
    "filename = \"attendance-2016.txt\"\n",
    "\n",
    "data = open(filename,'r').readlines()\n",
    "\n",
    "# format of a row\n",
    "#\"Team\", \"League\", \"Runs\", \"Home.Att\", \"Home.Att.Avg\", \"Won\", \"Lost\", \"Road.Att.Avg\", \"Overall.Att.Avg\"\n",
    "all_teams = {}\n",
    "for row in data[1:]:\n",
    "    line = row.strip().split('\\t')\n",
    "    all_teams[line[0].strip('\"')] = teams(*(line))\n",
    "\n",
    "all_teams['St Louis Cardinals'].print_team()\n"
   ]
  },
  {
   "cell_type": "code",
   "execution_count": 51,
   "metadata": {},
   "outputs": [
    {
     "name": "stdout",
     "output_type": "stream",
     "text": [
      "['St Louis Cardinals', 'Baltimore Orioles', 'NY Yankees', 'Los Angeles Dodgers', 'Texas Rangers', 'San Diego Padres', 'Tampa Bay Rays', 'Toronto Blue Jays', 'Chicago Cubs', 'Houston Astros', 'NY Mets', 'Boston Red Sox', 'Milwaukee Brewers', 'Cleveland Indians', 'Aizona Diamondbacks', 'Kansas City Royals', 'Chicago White Sox', 'Seattle Mariners', 'Philadelphia Phillies', 'Colorado Rockies', 'Atlanta Braves', 'Oakland Athletics', 'San Francisco Giants', 'Washington Nationals', 'Miami Marlins', 'Cincinnati Reds', 'Pittsburgh Pirates', 'Minnesota Twins', 'Detroit Tigers', 'Los Angeles Angels']\n"
     ]
    }
   ],
   "source": [
    "\n",
    "print all_teams.keys()"
   ]
  },
  {
   "cell_type": "code",
   "execution_count": 52,
   "metadata": {},
   "outputs": [
    {
     "name": "stdout",
     "output_type": "stream",
     "text": [
      "Team name: Houston Astros\n",
      "League: AL\n",
      "Runs 724\n",
      "Home attendance: 2306623.0\n",
      "Home attendance (Avg): 28476.0\n",
      "Wins: 84\n",
      "Losses: 78\n",
      "Road attendance (Avg): 28041.0\n",
      "Overall attendance (Avg): 28258.0\n",
      "Team name: Houston Astros\n",
      "League: AL\n",
      "Runs 732\n",
      "Home attendance: 2374623.0\n",
      "Home attendance (Avg): 1187311.5\n",
      "Wins: 85\n",
      "Losses: 78\n",
      "Road attendance (Avg): 28041.0\n",
      "Overall attendance (Avg): 28084.6380368\n"
     ]
    }
   ],
   "source": [
    "\n",
    "all_teams['Houston Astros'].print_team()\n",
    "all_teams['Houston Astros'].update_stats(8, 68000, True, True)\n",
    "all_teams['Houston Astros'].print_team()\n",
    "\n"
   ]
  },
  {
   "cell_type": "code",
   "execution_count": 54,
   "metadata": {},
   "outputs": [
    {
     "name": "stdout",
     "output_type": "stream",
     "text": [
      "Team name: Boston Red Sox\n",
      "League: AL\n",
      "Runs 882\n",
      "Home attendance: 2955434.0\n",
      "Home attendance (Avg): 36486.0\n",
      "Wins: 93\n",
      "Losses: 70\n",
      "Road attendance (Avg): 32725.4989893\n",
      "Overall attendance (Avg): 34177.0306748\n",
      "Team name: Boston Red Sox\n",
      "League: AL\n",
      "Runs 886\n",
      "Home attendance: 2955434.0\n",
      "Home attendance (Avg): 36486.0\n",
      "Wins: 93\n",
      "Losses: 71\n",
      "Road attendance (Avg): 33161.4171727\n",
      "Overall attendance (Avg): 33968.6341463\n"
     ]
    }
   ],
   "source": [
    "\n",
    "all_teams['Boston Red Sox'].print_team()\n",
    "all_teams['Boston Red Sox'].update_stats(4, 68000, False, False)\n",
    "all_teams['Boston Red Sox'].print_team()\n",
    "\n"
   ]
  },
  {
   "cell_type": "code",
   "execution_count": 56,
   "metadata": {},
   "outputs": [],
   "source": [
    "\n",
    "\n",
    "# create a game function that updates teams\n",
    "def play_game(hometeam, awayteam, score, attendance):\n",
    "    # hometeam: class object home team\n",
    "    # awayteam: class object away team\n",
    "    # score: tuple (home,away)\n",
    "    # attendance: integer\n",
    "    \n",
    "    \n",
    "    # update home team\n",
    "    win = True\n",
    "    if score[0] < score[1]:\n",
    "        win = False\n",
    "    hometeam.update_stats(score[0], attendance, win, True)\n",
    "    \n",
    "    # update away team\n",
    "    awayteam.update_stats(score[1], attendance, not win, False)\n",
    "    return\n",
    "    \n",
    "play_game(all_teams[\"Seattle Mariners\"],all_teams[\"Boston Red Sox\"], (23,0), 7)"
   ]
  },
  {
   "cell_type": "code",
   "execution_count": 57,
   "metadata": {},
   "outputs": [
    {
     "name": "stdout",
     "output_type": "stream",
     "text": [
      "Team name: Boston Red Sox\n",
      "League: AL\n",
      "Runs 886\n",
      "Home attendance: 2955434.0\n",
      "Home attendance (Avg): 36486.0\n",
      "Wins: 93\n",
      "Losses: 72\n",
      "Road attendance (Avg): 32746.3094393\n",
      "Overall attendance (Avg): 33762.7636364\n"
     ]
    }
   ],
   "source": [
    "all_teams[\"Boston Red Sox\"].print_team()"
   ]
  },
  {
   "cell_type": "code",
   "execution_count": 61,
   "metadata": {
    "collapsed": true
   },
   "outputs": [],
   "source": [
    "def record_injuries(team, new_injuries, fixed_injuries):\n",
    "    # team: class object of team\n",
    "    # new_injuries: int\n",
    "    # fixed_injuries: int\n",
    "    \n",
    "    team.injuries += new_injuries\n",
    "    team.injuries -= fixed_injuries\n",
    "    \n",
    "    \n",
    "record_injuries(all_teams[\"Boston Red Sox\"], 25, 0)\n",
    "\n",
    "    "
   ]
  },
  {
   "cell_type": "code",
   "execution_count": 62,
   "metadata": {},
   "outputs": [
    {
     "name": "stdout",
     "output_type": "stream",
     "text": [
      "Team name: Boston Red Sox\n",
      "League: AL\n",
      "Runs 878\n",
      "Home attendance: 2955434.0\n",
      "Home attendance (Avg): 36486.0\n",
      "Wins: 93\n",
      "Losses: 69\n",
      "Road attendance (Avg): 32290.0\n",
      "Overall attendance (Avg): 34388.0\n",
      "Number of players on roster: 25\n",
      "Number of injuries: 25\n"
     ]
    }
   ],
   "source": [
    "all_teams[\"Boston Red Sox\"].print_team()"
   ]
  },
  {
   "cell_type": "code",
   "execution_count": null,
   "metadata": {
    "collapsed": true
   },
   "outputs": [],
   "source": []
  }
 ],
 "metadata": {
  "kernelspec": {
   "display_name": "Python 2",
   "language": "python",
   "name": "python2"
  },
  "language_info": {
   "codemirror_mode": {
    "name": "ipython",
    "version": 2
   },
   "file_extension": ".py",
   "mimetype": "text/x-python",
   "name": "python",
   "nbconvert_exporter": "python",
   "pygments_lexer": "ipython2",
   "version": "2.7.14"
  }
 },
 "nbformat": 4,
 "nbformat_minor": 2
}
