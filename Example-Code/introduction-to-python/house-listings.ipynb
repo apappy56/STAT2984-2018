{
 "cells": [
  {
   "cell_type": "code",
   "execution_count": 1,
   "metadata": {
    "collapsed": true
   },
   "outputs": [],
   "source": [
    "# read in the data\n",
    "# we will go over these blocks of code\n",
    "# in a few weeks\n",
    "raw_housing_prices = open('housing-prices.txt','r').readlines()\n",
    "\n",
    "# extract column names and create\n",
    "# a list of lists for the data\n",
    "# and a dictionary of lists for the data\n",
    "header = raw_housing_prices[0].split('\\t')\n",
    "housing_prices_list = []\n",
    "housing_prices_dict = {}\n",
    "for line in raw_housing_prices[1:]:\n",
    "    datum = [float(a) for a in line.split('\\t')]\n",
    "    housing_prices_list.append(datum)\n",
    "    for i,a in enumerate(header):\n",
    "        if a not in housing_prices_dict:\n",
    "            housing_prices_dict[a] = []\n",
    "        housing_prices_dict[a].append(datum[i])"
   ]
  },
  {
   "cell_type": "code",
   "execution_count": 3,
   "metadata": {},
   "outputs": [
    {
     "name": "stdout",
     "output_type": "stream",
     "text": [
      "Number of variables in data set: 6\n",
      "Number of entries in list: 1057\n",
      "Number of entries in dictionary: 6\n"
     ]
    }
   ],
   "source": [
    "# Summarize the read in data\n",
    "print \"Number of variables in data set:\",len(header)\n",
    "print \"Number of entries in list:\",len(housing_prices_list)\n",
    "print \"Number of entries in dictionary:\",len(housing_prices_dict)"
   ]
  },
  {
   "cell_type": "code",
   "execution_count": 5,
   "metadata": {},
   "outputs": [
    {
     "name": "stdout",
     "output_type": "stream",
     "text": [
      "Living.Area 1057 659\n",
      "Bathrooms 1057 8\n",
      "Fireplaces 1057 5\n",
      "Price 1057 950\n",
      "Bedrooms 1057 5\n",
      "Age\n",
      "1057 130\n"
     ]
    }
   ],
   "source": [
    "# Summarize the number of observations for each variable\n",
    "# in the dictionary\n",
    "\n",
    "for variable in housing_prices_dict.keys():\n",
    "    print variable, len(housing_prices_dict[variable]), len(set(housing_prices_dict[variable]))\n"
   ]
  },
  {
   "cell_type": "code",
   "execution_count": 9,
   "metadata": {},
   "outputs": [
    {
     "name": "stdout",
     "output_type": "stream",
     "text": [
      "1.0 3\n",
      "2.0 177\n",
      "3.0 523\n",
      "4.0 330\n",
      "5.0 24\n",
      "Option 2:\n",
      "1.0 3\n",
      "2.0 177\n",
      "3.0 523\n",
      "4.0 330\n",
      "5.0 24\n"
     ]
    }
   ],
   "source": [
    "# What is the distribution of bedroom numbers in data set\n",
    "\n",
    "# get the unique number of bedrooms in house\n",
    "bedroom_sizes = set(housing_prices_dict['Bedrooms'])\n",
    "\n",
    "# for each bedroom size\n",
    "for size in bedroom_sizes:\n",
    "    count = 0 \n",
    "    for bed in housing_prices_dict['Bedrooms']:\n",
    "        if bed == size:\n",
    "            count += 1\n",
    "    print size, count\n",
    "\n",
    "print \"Option 2:\"\n",
    "# counting number of houses using one for loop\n",
    "for bed in bedroom_sizes:\n",
    "    print bed, housing_prices_dict['Bedrooms'].count(bed)"
   ]
  },
  {
   "cell_type": "code",
   "execution_count": 11,
   "metadata": {},
   "outputs": [
    {
     "name": "stdout",
     "output_type": "stream",
     "text": [
      "Living.Area 672.0 5228.0 1819.49763482\n",
      "Bathrooms 1.0 4.5 1.92857142857\n",
      "Fireplaces 0.0 4.0 0.624408703879\n",
      "Price 16858.0 599701.0 167901.857143\n",
      "Bedrooms 1.0 5.0 3.18448438978\n",
      "Age\n",
      "0.0 247.0 28.0898770104\n"
     ]
    }
   ],
   "source": [
    "# Summarize all variabless by including the\n",
    "# mean, min, max, and median\n",
    "\n",
    "for variable in housing_prices_dict.keys():\n",
    "    print variable, \\\n",
    "        min(housing_prices_dict[variable]), \\\n",
    "        max(housing_prices_dict[variable]), \\\n",
    "        (sum(housing_prices_dict[variable])/len(housing_prices_dict[variable]))\n",
    "\n"
   ]
  },
  {
   "cell_type": "code",
   "execution_count": 13,
   "metadata": {},
   "outputs": [
    {
     "name": "stdout",
     "output_type": "stream",
     "text": [
      "Living.Area 2000.0 5228.0 2582.33427762\n",
      "Bathrooms 1.0 4.5 2.50708215297\n",
      "Fireplaces 0.0 4.0 0.929178470255\n",
      "Price 59003.0 599701.0 235899.640227\n",
      "Bedrooms 2.0 5.0 3.79603399433\n",
      "Age\n",
      "0.0 233.0 15.8413597734\n"
     ]
    }
   ],
   "source": [
    "# Summarize all variables for houses over 2000 sqft\n",
    "# by including the mean, min, max, and median\n",
    "\n",
    "# store the index of houses with greater than 2000 sqft\n",
    "index_of_houses = []\n",
    "# current index\n",
    "ind = 0\n",
    "for sqft in housing_prices_dict['Living.Area']:\n",
    "    if sqft >= 2000:\n",
    "        # add index to list\n",
    "        index_of_houses.append(ind)\n",
    "    # increment our current index\n",
    "    ind += 1\n",
    "    \n",
    "# summarize variables for houses greater than 2000 sqft    \n",
    "for variable in housing_prices_dict.keys():\n",
    "    # initialize a subset list to keep track of values for large houses\n",
    "    subset_variable = []\n",
    "    for i in index_of_houses:\n",
    "        subset_variable.append(housing_prices_dict[variable][i])\n",
    "        \n",
    "    # print the summary of the variable (min, max, mean)    \n",
    "    print variable, \\\n",
    "        min(subset_variable), \\\n",
    "        max(subset_variable), \\\n",
    "        (sum(subset_variable)/len(subset_variable))\n",
    "\n",
    "    \n"
   ]
  },
  {
   "cell_type": "code",
   "execution_count": 16,
   "metadata": {},
   "outputs": [
    {
     "name": "stdout",
     "output_type": "stream",
     "text": [
      "93.5047804139\n"
     ]
    }
   ],
   "source": [
    "# What is the average price per square foot\n",
    "\n",
    "# initialize a price per sqft list\n",
    "price_sqft = []\n",
    "for  house in housing_prices_list:\n",
    "    price_sqft.append(house[0]/house[1])\n",
    "    \n",
    "# print the average price per square foot\n",
    "print sum(price_sqft)/len(price_sqft)"
   ]
  },
  {
   "cell_type": "code",
   "execution_count": null,
   "metadata": {
    "collapsed": true
   },
   "outputs": [],
   "source": [
    "# What is the average price per square foot\n",
    "# divided up by number of bedrooms\n"
   ]
  }
 ],
 "metadata": {
  "kernelspec": {
   "display_name": "Python 2",
   "language": "python",
   "name": "python2"
  },
  "language_info": {
   "codemirror_mode": {
    "name": "ipython",
    "version": 2
   },
   "file_extension": ".py",
   "mimetype": "text/x-python",
   "name": "python",
   "nbconvert_exporter": "python",
   "pygments_lexer": "ipython2",
   "version": "2.7.14"
  }
 },
 "nbformat": 4,
 "nbformat_minor": 2
}
