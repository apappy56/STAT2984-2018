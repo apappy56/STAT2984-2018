{
 "cells": [
  {
   "cell_type": "code",
   "execution_count": 1,
   "metadata": {
    "collapsed": true
   },
   "outputs": [],
   "source": [
    "# read in the data\n",
    "# we will go over these blocks of code\n",
    "# in a few weeks\n",
    "raw_housing_prices = open('housing-prices.txt','r').readlines()\n",
    "\n",
    "# extract column names and create\n",
    "# a list of lists for the data\n",
    "# and a dictionary of lists for the data\n",
    "header = raw_housing_prices[0].split('\\t')\n",
    "housing_prices_list = []\n",
    "housing_prices_dict = {}\n",
    "for line in raw_housing_prices[1:]:\n",
    "    datum = [float(a) for a in line.split('\\t')]\n",
    "    housing_prices_list.append(datum)\n",
    "    for i,a in enumerate(header):\n",
    "        if a not in housing_prices_dict:\n",
    "            housing_prices_dict[a] = []\n",
    "        housing_prices_dict[a].append(datum[i])"
   ]
  },
  {
   "cell_type": "code",
   "execution_count": 3,
   "metadata": {},
   "outputs": [
    {
     "name": "stdout",
     "output_type": "stream",
     "text": [
      "Number of variables in data set: 6\n",
      "Number of entries in list: 1057\n",
      "Number of entries in dictionary: 6\n"
     ]
    }
   ],
   "source": [
    "# Summarize the read in data\n",
    "print \"Number of variables in data set:\",len(header)\n",
    "print \"Number of entries in list:\",len(housing_prices_list)\n",
    "print \"Number of entries in dictionary:\",len(housing_prices_dict)"
   ]
  },
  {
   "cell_type": "code",
   "execution_count": null,
   "metadata": {
    "collapsed": true
   },
   "outputs": [],
   "source": [
    "# Summarize the number of observations for each variable\n",
    "# in the dictionary\n"
   ]
  },
  {
   "cell_type": "code",
   "execution_count": null,
   "metadata": {
    "collapsed": true
   },
   "outputs": [],
   "source": [
    "# What is the distribution of bedroom numbers in data set\n"
   ]
  },
  {
   "cell_type": "code",
   "execution_count": null,
   "metadata": {
    "collapsed": true
   },
   "outputs": [],
   "source": [
    "# Summarize all variabless by including the\n",
    "# mean, min, max, and median\n"
   ]
  },
  {
   "cell_type": "code",
   "execution_count": null,
   "metadata": {
    "collapsed": true
   },
   "outputs": [],
   "source": [
    "# Summarize all variables for houses over 2000 sqft\n",
    "# by including the mean, min, max, and median\n"
   ]
  },
  {
   "cell_type": "code",
   "execution_count": null,
   "metadata": {
    "collapsed": true
   },
   "outputs": [],
   "source": [
    "# What is the average price per square foot\n"
   ]
  },
  {
   "cell_type": "code",
   "execution_count": null,
   "metadata": {
    "collapsed": true
   },
   "outputs": [],
   "source": [
    "# What is the average price per square foot\n",
    "# divided up by number of bedrooms\n"
   ]
  }
 ],
 "metadata": {
  "kernelspec": {
   "display_name": "Python 2",
   "language": "python",
   "name": "python2"
  },
  "language_info": {
   "codemirror_mode": {
    "name": "ipython",
    "version": 2
   },
   "file_extension": ".py",
   "mimetype": "text/x-python",
   "name": "python",
   "nbconvert_exporter": "python",
   "pygments_lexer": "ipython2",
   "version": "2.7.14"
  }
 },
 "nbformat": 4,
 "nbformat_minor": 2
}
