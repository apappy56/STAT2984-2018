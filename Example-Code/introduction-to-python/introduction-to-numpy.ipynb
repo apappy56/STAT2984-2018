{
 "cells": [
  {
   "cell_type": "code",
   "execution_count": 1,
   "metadata": {
    "collapsed": true
   },
   "outputs": [],
   "source": [
    "# import numpy\n",
    "import numpy"
   ]
  },
  {
   "cell_type": "code",
   "execution_count": 3,
   "metadata": {
    "collapsed": true
   },
   "outputs": [],
   "source": [
    "array = [[ 1., 0., 0.],\n",
    " [ 0., 1., 2.]]"
   ]
  },
  {
   "cell_type": "code",
   "execution_count": 6,
   "metadata": {},
   "outputs": [
    {
     "name": "stdout",
     "output_type": "stream",
     "text": [
      "<type 'list'>\n",
      "<type 'numpy.ndarray'>\n"
     ]
    }
   ],
   "source": [
    "\n",
    "nparray = numpy.array(array)\n",
    "print type(array)\n",
    "print type(nparray)"
   ]
  },
  {
   "cell_type": "code",
   "execution_count": 7,
   "metadata": {},
   "outputs": [
    {
     "name": "stdout",
     "output_type": "stream",
     "text": [
      "[[1.0, 0.0, 0.0], [0.0, 1.0, 2.0]]\n"
     ]
    }
   ],
   "source": [
    "print array"
   ]
  },
  {
   "cell_type": "code",
   "execution_count": 8,
   "metadata": {},
   "outputs": [
    {
     "name": "stdout",
     "output_type": "stream",
     "text": [
      "[[ 1.  0.  0.]\n",
      " [ 0.  1.  2.]]\n"
     ]
    }
   ],
   "source": [
    "print nparray"
   ]
  },
  {
   "cell_type": "code",
   "execution_count": 10,
   "metadata": {},
   "outputs": [
    {
     "data": {
      "text/plain": [
       "2"
      ]
     },
     "execution_count": 10,
     "metadata": {},
     "output_type": "execute_result"
    }
   ],
   "source": [
    "# number of dimensions\n",
    "nparray.ndim"
   ]
  },
  {
   "cell_type": "code",
   "execution_count": 1,
   "metadata": {
    "collapsed": true
   },
   "outputs": [],
   "source": [
    "# read in the data\n",
    "# we will go over these blocks of code\n",
    "# in a few weeks\n",
    "raw_housing_prices = open('housing-prices.txt','r').readlines()\n",
    "\n",
    "# extract column names and create\n",
    "# a list of lists for the data\n",
    "# and a dictionary of lists for the data\n",
    "header = raw_housing_prices[0].split('\\t')\n",
    "housing_prices_list = []\n",
    "housing_prices_dict = {}\n",
    "for line in raw_housing_prices[1:]:\n",
    "    datum = [float(a) for a in line.split('\\t')]\n",
    "    housing_prices_list.append(datum)\n",
    "    for i,a in enumerate(header):\n",
    "        if a not in housing_prices_dict:\n",
    "            housing_prices_dict[a] = []\n",
    "        housing_prices_dict[a].append(datum[i])"
   ]
  },
  {
   "cell_type": "code",
   "execution_count": 5,
   "metadata": {},
   "outputs": [
    {
     "name": "stdout",
     "output_type": "stream",
     "text": [
      "[[  1.42212000e+05   1.98200000e+03   3.00000000e+00   1.00000000e+00\n",
      "    0.00000000e+00   1.33000000e+02]\n",
      " [  1.34865000e+05   1.67600000e+03   3.00000000e+00   1.50000000e+00\n",
      "    1.00000000e+00   1.40000000e+01]\n",
      " [  1.18007000e+05   1.69400000e+03   3.00000000e+00   2.00000000e+00\n",
      "    1.00000000e+00   1.50000000e+01]\n",
      " ..., \n",
      " [  1.54829000e+05   1.44000000e+03   2.00000000e+00   2.00000000e+00\n",
      "    1.00000000e+00   6.60000000e+01]\n",
      " [  1.79492000e+05   2.03000000e+03   3.00000000e+00   2.50000000e+00\n",
      "    1.00000000e+00   3.00000000e+00]\n",
      " [  1.89108000e+05   2.09700000e+03   3.00000000e+00   2.50000000e+00\n",
      "    1.00000000e+00   1.00000000e+01]]\n",
      "[[154829.0, 1440.0, 2.0, 2.0, 1.0, 66.0], [179492.0, 2030.0, 3.0, 2.5, 1.0, 3.0], [189108.0, 2097.0, 3.0, 2.5, 1.0, 10.0]]\n"
     ]
    }
   ],
   "source": [
    "import numpy\n",
    "housing_prices_np = numpy.array(housing_prices_list)\n",
    "print housing_prices_np\n",
    "print housing_prices_list[-3:]"
   ]
  },
  {
   "cell_type": "code",
   "execution_count": 14,
   "metadata": {},
   "outputs": [
    {
     "data": {
      "text/plain": [
       "(1057, 6)"
      ]
     },
     "execution_count": 14,
     "metadata": {},
     "output_type": "execute_result"
    }
   ],
   "source": [
    "housing_prices_np.shape"
   ]
  },
  {
   "cell_type": "code",
   "execution_count": 19,
   "metadata": {},
   "outputs": [
    {
     "name": "stdout",
     "output_type": "stream",
     "text": [
      "housing prices mean: 167901.857143\n"
     ]
    }
   ],
   "source": [
    "# compute the mean of the columns\n",
    "# note axis = 0 is column means\n",
    "# and axis = 1 is row means\n",
    "means = numpy.mean(housing_prices_np, axis=0) \n",
    "print \"housing prices mean:\", means[0]"
   ]
  },
  {
   "cell_type": "code",
   "execution_count": 21,
   "metadata": {},
   "outputs": [
    {
     "name": "stdout",
     "output_type": "stream",
     "text": [
      " housing prices std: 77121.8392551\n"
     ]
    }
   ],
   "source": [
    "# compute the std of the columns\n",
    "# note axis = 0 is column std\n",
    "# and axis = 1 is row std\n",
    "stds = numpy.std(housing_prices_np, axis=0) \n",
    "print \"housing prices std:\", stds[0]"
   ]
  },
  {
   "cell_type": "code",
   "execution_count": 24,
   "metadata": {},
   "outputs": [
    {
     "data": {
      "text/plain": [
       "array([  1.52404000e+05,   1.67500000e+03,   3.00000000e+00,\n",
       "         2.00000000e+00,   1.00000000e+00,   1.80000000e+01])"
      ]
     },
     "execution_count": 24,
     "metadata": {},
     "output_type": "execute_result"
    }
   ],
   "source": [
    "import numpy as np\n",
    "# compute the median of the columns\n",
    "# note axis = 0 is column median\n",
    "# and axis = 1 is row median\n",
    "np.percentile(housing_prices_np, 50, axis=0)"
   ]
  },
  {
   "cell_type": "code",
   "execution_count": 26,
   "metadata": {},
   "outputs": [
    {
     "name": "stdout",
     "output_type": "stream",
     "text": [
      " Price 112400.0 152404.0 206512.0\n",
      "Living.Area 1342.0 1675.0 2223.0\n",
      "Bedrooms 3.0 3.0 4.0\n",
      "Bathrooms 1.5 2.0 2.5\n",
      "Fireplaces 0.0 1.0 1.0\n",
      "Age\n",
      "6.0 18.0 34.0\n"
     ]
    }
   ],
   "source": [
    "# build boxplot values\n",
    "# compute the median of the columns\n",
    "# note axis = 0 is column median\n",
    "# and axis = 1 is row median\n",
    "medians = np.percentile(housing_prices_np, 50, axis=0)\n",
    "p25 = np.percentile(housing_prices_np, 25, axis=0)\n",
    "p75 = np.percentile(housing_prices_np, 75, axis=0)\n",
    "\n",
    "for i,h in enumerate(header):\n",
    "    print h, p25[i], medians[i], p75[i]"
   ]
  },
  {
   "cell_type": "code",
   "execution_count": null,
   "metadata": {
    "collapsed": true
   },
   "outputs": [],
   "source": []
  }
 ],
 "metadata": {
  "kernelspec": {
   "display_name": "Python 2",
   "language": "python",
   "name": "python2"
  },
  "language_info": {
   "codemirror_mode": {
    "name": "ipython",
    "version": 2
   },
   "file_extension": ".py",
   "mimetype": "text/x-python",
   "name": "python",
   "nbconvert_exporter": "python",
   "pygments_lexer": "ipython2",
   "version": "2.7.14"
  }
 },
 "nbformat": 4,
 "nbformat_minor": 2
}
