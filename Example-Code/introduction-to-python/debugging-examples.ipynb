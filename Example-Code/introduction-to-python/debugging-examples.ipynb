{
 "cells": [
  {
   "cell_type": "code",
   "execution_count": null,
   "metadata": {
    "collapsed": true
   },
   "outputs": [],
   "source": [
    "# data downloaded from https://dasl.datadescription.com/datafile/couples/\n",
    "\n",
    "def read_data(filename)\n",
    "    # read in the file\n",
    "    f = open(filename,'rU').readlines()\n",
    "    \n",
    "    data = {}\n",
    "    for row in r:\n",
    "        data.append[row.strip().split('\\t')]\n",
    "    return data\n",
    "\n",
    "\n",
    "filename = couples.ttx\n",
    "# read in the data\n",
    "data = read_data(filename)\n",
    "\n",
    "data"
   ]
  },
  {
   "cell_type": "code",
   "execution_count": null,
   "metadata": {
    "collapsed": true
   },
   "outputs": [],
   "source": [
    "# convert the list of lists to a dictionary\n",
    "\n",
    "data_dict = {}\n",
    "header = data[0]\n",
    "\n",
    "for row in data[1:]\n",
    "    for var in enumerate(header):\n",
    "        if var in data_dict:\n",
    "            data_dict[variable] = {}\n",
    "        data_dict[var].append([row[i]])\n"
   ]
  },
  {
   "cell_type": "code",
   "execution_count": null,
   "metadata": {
    "collapsed": true
   },
   "outputs": [],
   "source": [
    "import numpy as np\n",
    "\n",
    "# summarize data\n",
    "def summarize_data(data):\n",
    "    header = data[0]\n",
    "    i=0\n",
    "    for col in header:\n",
    "        i += 1\n",
    "        print \"Column name:\",col\n",
    "        column_data = []\n",
    "        for row in data[1:]:\n",
    "            column_data.append(float(row[i]))\n",
    "        print '\\tMean:', mean(column_data)\n",
    "        print '\\tMin:', min(column_data)\n",
    "        print '\\tMax:', max(column_data)\n",
    "            \n",
    "summarize_data(data)"
   ]
  },
  {
   "cell_type": "code",
   "execution_count": null,
   "metadata": {
    "collapsed": true
   },
   "outputs": [],
   "source": [
    "import matplotlib.pyplot as plt\n",
    "\n",
    "# organize data\n",
    "wAge = {}\n",
    "hAge = {}\n",
    "\n",
    "for row in data[1:]:\n",
    "    wAge.append[float(row[1])]\n",
    "    hAge.append(float(row[2]))\n",
    "\n",
    "# plot wAge by hAge to see if the husband or wife is always older.\n",
    "fig, ax = plt.subplots()\n",
    "plt.scatter(wAge, hAge, s=3, c=blue, alpha=0.5)\n",
    "plt.plot([0,max(wAge)+5], [0, max(wAge)+5], color=\"purple\")\n",
    "fig.xlabel('wAge')\n",
    "plt.ylabel('hAge')\n",
    "\n",
    "ax.spines['right'].set_visible(False)\n",
    "ax.spines['top'].set_visible(False)\n",
    "\n",
    "ax.set_xlim(min(wAge)-5, max(wAge)+5)\n",
    "grid()\n",
    "plt.show"
   ]
  },
  {
   "cell_type": "code",
   "execution_count": null,
   "metadata": {
    "collapsed": true
   },
   "outputs": [],
   "source": []
  }
 ],
 "metadata": {
  "kernelspec": {
   "display_name": "Python 2",
   "language": "python",
   "name": "python2"
  },
  "language_info": {
   "codemirror_mode": {
    "name": "ipython",
    "version": 2
   },
   "file_extension": ".py",
   "mimetype": "text/x-python",
   "name": "python",
   "nbconvert_exporter": "python",
   "pygments_lexer": "ipython2",
   "version": "2.7.14"
  }
 },
 "nbformat": 4,
 "nbformat_minor": 2
}
