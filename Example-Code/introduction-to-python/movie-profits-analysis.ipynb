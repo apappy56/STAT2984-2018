{
 "cells": [
  {
   "cell_type": "code",
   "execution_count": 18,
   "metadata": {},
   "outputs": [
    {
     "name": "stdout",
     "output_type": "stream",
     "text": [
      "['Year', 'US Gross ($M)', 'Budget ($M)', 'Run Time (min)', 'Critic Score (Rotten Tomatoes)']\n"
     ]
    }
   ],
   "source": [
    "# read in the data\n",
    "# we will go over these blocks of code\n",
    "# in a few weeks\n",
    "raw_housing_prices = open('/Users/allisontegge/Documents/GitHub/STAT2984-2018/Example-Code/introduction-to-python/movie-profits.txt','r').readlines()\n",
    "\n",
    "# extract column names and create\n",
    "# a list of lists for the data\n",
    "# and a dictionary of lists for the data\n",
    "header = raw_housing_prices[0].strip().split('\\t')\n",
    "housing_prices_list = []\n",
    "housing_prices_dict = {}\n",
    "movie_titles = []\n",
    "\n",
    "# index of column to ignor\n",
    "ind = 1 #second column\n",
    "for line in raw_housing_prices[1:]:\n",
    "    datum = []\n",
    "    for i,a in enumerate(line.split('\\t')):\n",
    "        if i != ind:\n",
    "            datum.append(float(a))\n",
    "        else:\n",
    "            movie_titles.append(a)\n",
    "    #datum = [float(a) for a in line.split('\\t')]\n",
    "    housing_prices_list.append(datum)\n",
    "    for i,a in enumerate(header):\n",
    "        if i == ind:\n",
    "            pass\n",
    "        \n",
    "        if i > ind:\n",
    "            i = i-1\n",
    "        if a not in housing_prices_dict:\n",
    "            housing_prices_dict[a] = []\n",
    "        housing_prices_dict[a].append(datum[i])\n",
    "        \n",
    "movie_profits_list = housing_prices_list\n",
    "movie_profits_dict = housing_prices_dict\n",
    "del header[ind]\n",
    "print header"
   ]
  },
  {
   "cell_type": "code",
   "execution_count": 19,
   "metadata": {},
   "outputs": [
    {
     "name": "stdout",
     "output_type": "stream",
     "text": [
      "[[ 2012.         162.805434   100.         165.          88.      ]\n",
      " [ 2012.          77.264926    25.         105.          18.      ]\n",
      " [ 2012.          19.019882    40.         114.          81.      ]\n",
      " ..., \n",
      " [ 2008.          80.048433    25.          85.          77.      ]\n",
      " [ 2008.           4.775656    60.         127.           4.      ]\n",
      " [ 2008.          26.890041    20.          87.           0.      ]]\n",
      "(609, 5)\n"
     ]
    }
   ],
   "source": [
    "import numpy as np\n",
    "import numpy\n",
    "\n",
    "# convert movie_profits_list to numpy array\n",
    "movie_profits_np = numpy.array(movie_profits_list)\n",
    "\n",
    "print movie_profits_np\n",
    "print movie_profits_np.shape"
   ]
  },
  {
   "cell_type": "code",
   "execution_count": 12,
   "metadata": {},
   "outputs": [],
   "source": [
    "# compute the mean runtime, gross, budget, score\n"
   ]
  },
  {
   "cell_type": "code",
   "execution_count": 24,
   "metadata": {},
   "outputs": [
    {
     "data": {
      "text/plain": [
       "array([[ 1.        ,  0.04422996],\n",
       "       [ 0.04422996,  1.        ]])"
      ]
     },
     "execution_count": 24,
     "metadata": {},
     "output_type": "execute_result"
    }
   ],
   "source": [
    "# compute the profit of all movies\n",
    "\n",
    "# Which movie is the most profitable?\n",
    "\n",
    "# Which movie is the least profitable?\n",
    "np.corrcoef(movie_p)\n"
   ]
  },
  {
   "cell_type": "code",
   "execution_count": null,
   "metadata": {
    "collapsed": true
   },
   "outputs": [],
   "source": [
    "# Is there a relationship between runtime and budget?\n",
    "# Hint: Correlation\n"
   ]
  },
  {
   "cell_type": "code",
   "execution_count": null,
   "metadata": {
    "collapsed": true
   },
   "outputs": [],
   "source": [
    "# Is there a relatioship between year and budget?\n",
    "# Hint: Correlation"
   ]
  },
  {
   "cell_type": "code",
   "execution_count": null,
   "metadata": {
    "collapsed": true
   },
   "outputs": [],
   "source": [
    "# Is there a relationship between score and profits?\n",
    "# Hint: correlation\n"
   ]
  },
  {
   "cell_type": "code",
   "execution_count": null,
   "metadata": {
    "collapsed": true
   },
   "outputs": [],
   "source": [
    "# Do movies with higher score make more money?\n",
    "# Hint: Regression 'profit ~ score'\n"
   ]
  },
  {
   "cell_type": "code",
   "execution_count": null,
   "metadata": {
    "collapsed": true
   },
   "outputs": [],
   "source": [
    "# Do movies that make more money have a higher score?\n",
    "# Hint: Regression 'score ~ profit'\n",
    "\n"
   ]
  }
 ],
 "metadata": {
  "kernelspec": {
   "display_name": "Python 2",
   "language": "python",
   "name": "python2"
  },
  "language_info": {
   "codemirror_mode": {
    "name": "ipython",
    "version": 2
   },
   "file_extension": ".py",
   "mimetype": "text/x-python",
   "name": "python",
   "nbconvert_exporter": "python",
   "pygments_lexer": "ipython2",
   "version": "2.7.14"
  }
 },
 "nbformat": 4,
 "nbformat_minor": 2
}
