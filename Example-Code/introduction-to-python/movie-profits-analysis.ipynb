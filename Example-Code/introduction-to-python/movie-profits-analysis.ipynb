{
 "cells": [
  {
   "cell_type": "code",
   "execution_count": 61,
   "metadata": {},
   "outputs": [
    {
     "name": "stdout",
     "output_type": "stream",
     "text": [
      "['Year', 'US Gross ($M)', 'Budget ($M)', 'Run Time (min)', 'Critic Score (Rotten Tomatoes)']\n"
     ]
    }
   ],
   "source": [
    "# read in the data\n",
    "# we will go over these blocks of code\n",
    "# in a few weeks\n",
    "raw_housing_prices = open('movie-profits.txt','r').readlines()\n",
    "\n",
    "# extract column names and create\n",
    "# a list of lists for the data\n",
    "# and a dictionary of lists for the data\n",
    "header = raw_housing_prices[0].strip().split('\\t')\n",
    "housing_prices_list = []\n",
    "housing_prices_dict = {}\n",
    "movie_titles = []\n",
    "\n",
    "# index of column to ignor\n",
    "ind = 1 #second column\n",
    "for line in raw_housing_prices[1:]:\n",
    "    datum = []\n",
    "\n",
    "    for i,a in enumerate(line.strip().split('\\t')):\n",
    "        if i != ind: # if not i == ind:\n",
    "            datum.append(float(a))\n",
    "        else:\n",
    "            movie_titles.append(a)\n",
    "    #datum = [float(a) for a in line.split('\\t')]\n",
    "    housing_prices_list.append(datum)\n",
    "    for i,a in enumerate(header):\n",
    "        if i == ind:\n",
    "            pass\n",
    "        \n",
    "        if i > ind:\n",
    "            i = i-1\n",
    "        if a not in housing_prices_dict:\n",
    "            housing_prices_dict[a] = []\n",
    "        housing_prices_dict[a].append(datum[i])\n",
    "        \n",
    "movie_profits_list = housing_prices_list\n",
    "movie_profits_dict = housing_prices_dict\n",
    "del header[ind]\n",
    "print header"
   ]
  },
  {
   "cell_type": "code",
   "execution_count": 41,
   "metadata": {},
   "outputs": [
    {
     "name": "stdout",
     "output_type": "stream",
     "text": [
      "[[ 2012.         162.805434   100.         165.          88.      ]\n",
      " [ 2012.          77.264926    25.         105.          18.      ]\n",
      " [ 2012.          19.019882    40.         114.          81.      ]\n",
      " ..., \n",
      " [ 2008.          80.048433    25.          85.          77.      ]\n",
      " [ 2008.           4.775656    60.         127.           4.      ]\n",
      " [ 2008.          26.890041    20.          87.           0.      ]]\n",
      "(609, 5)\n"
     ]
    }
   ],
   "source": [
    "import numpy as np\n",
    "import numpy\n",
    "\n",
    "# convert movie_profits_list to numpy array\n",
    "movie_profits_np = numpy.array(movie_profits_list)\n",
    "\n",
    "print movie_profits_np\n",
    "print movie_profits_np.shape"
   ]
  },
  {
   "cell_type": "code",
   "execution_count": 44,
   "metadata": {},
   "outputs": [
    {
     "name": "stdout",
     "output_type": "stream",
     "text": [
      "Year - 2009.96715928\n",
      "US Gross ($M) - 75.8197691511\n",
      "Budget ($M) - 58.1957307061\n",
      "Run Time (min) - 106.885057471\n",
      "Critic Score (Rotten Tomatoes) - 47.1921182266\n"
     ]
    }
   ],
   "source": [
    "# compute the mean year, runtime, gross, budget, score\n",
    "import numpy\n",
    "import numpy as np\n",
    "movie_profits_np = numpy.array(movie_profits_list)\n",
    "means = np.mean(movie_profits_np, axis=0)\n",
    "\n",
    "for i,h in enumerate(header):\n",
    "    print h,\"-\",means[i] \n"
   ]
  },
  {
   "cell_type": "code",
   "execution_count": 62,
   "metadata": {},
   "outputs": [
    {
     "name": "stdout",
     "output_type": "stream",
     "text": [
      "['Year', 'US Gross ($M)', 'Budget ($M)', 'Run Time (min)', 'Critic Score (Rotten Tomatoes)', 'Profits']\n",
      "(609, 6)\n"
     ]
    }
   ],
   "source": [
    "# compute the profit of all movies\n",
    "\n",
    "# print movies_profits_np[:,1]\n",
    "profits = numpy.subtract(movie_profits_np[:,1], movie_profits_np[:,2])\n",
    "movie_with_profits = np.concatenate([movie_profits_np,profits[:,None]], axis=1)\n",
    "profits_header = header + [\"Profits\"]\n",
    "print profits_header\n",
    "print movie_with_profits.shape\n",
    "\n",
    "# Which movie is the most profitable?\n",
    "\n",
    "# Which movie is the least profitable?\n"
   ]
  },
  {
   "cell_type": "code",
   "execution_count": 69,
   "metadata": {},
   "outputs": [
    {
     "name": "stdout",
     "output_type": "stream",
     "text": [
      "Coerrelation between Budget ($M) and Run Time (min)\n",
      "0.37\n"
     ]
    }
   ],
   "source": [
    "# Is there a relationship between runtime and budget?\n",
    "# Hint: Correlation\n",
    "\n",
    "correlations = numpy.corrcoef(movie_with_profits[:,2], movie_with_profits[:,3])\n",
    "\n",
    "print \"Coerrelation between\", profits_header[2], \"and\", profits_header[3]\n",
    "print \"%.2f\"%correlations[0,1]\n",
    "\n"
   ]
  },
  {
   "cell_type": "code",
   "execution_count": null,
   "metadata": {
    "collapsed": true
   },
   "outputs": [],
   "source": [
    "# Is there a relatioship between year and budget?\n",
    "# Hint: Correlation"
   ]
  },
  {
   "cell_type": "code",
   "execution_count": null,
   "metadata": {
    "collapsed": true
   },
   "outputs": [],
   "source": [
    "# Is there a relationship between score and profits?\n",
    "# Hint: correlation\n"
   ]
  },
  {
   "cell_type": "code",
   "execution_count": null,
   "metadata": {
    "collapsed": true
   },
   "outputs": [],
   "source": [
    "# Do movies with higher score make more money?\n",
    "# Hint: Regression 'profit ~ score'\n"
   ]
  },
  {
   "cell_type": "code",
   "execution_count": null,
   "metadata": {
    "collapsed": true
   },
   "outputs": [],
   "source": [
    "# Do movies that make more money have a higher score?\n",
    "# Hint: Regression 'score ~ profit'\n",
    "\n"
   ]
  }
 ],
 "metadata": {
  "kernelspec": {
   "display_name": "Python 2",
   "language": "python",
   "name": "python2"
  },
  "language_info": {
   "codemirror_mode": {
    "name": "ipython",
    "version": 2
   },
   "file_extension": ".py",
   "mimetype": "text/x-python",
   "name": "python",
   "nbconvert_exporter": "python",
   "pygments_lexer": "ipython2",
   "version": "2.7.14"
  }
 },
 "nbformat": 4,
 "nbformat_minor": 2
}
