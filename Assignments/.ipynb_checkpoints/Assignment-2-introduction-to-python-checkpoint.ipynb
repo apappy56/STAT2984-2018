{
 "cells": [
  {
   "cell_type": "code",
   "execution_count": null,
   "metadata": {
    "collapsed": true
   },
   "outputs": [],
   "source": [
    "# Assignment 2\n",
    "# Introduction to python\n",
    "# Due at 8am on February 6, 2018\n",
    "\n",
    "# Question 1: (2 points)\n",
    "# count the number of elements in a list\n",
    "\n",
    "countries = ['Cananda','United States','Spain','Germany','Brazil','China']\n"
   ]
  },
  {
   "cell_type": "code",
   "execution_count": null,
   "metadata": {
    "collapsed": true
   },
   "outputs": [],
   "source": [
    "# Question 2: (2 points)\n",
    "# Compute the sum of a list of numbers\n",
    "\n",
    "numbers = [3,4,5,2,3,8,7,6,4,5,1,2,3]\n"
   ]
  },
  {
   "cell_type": "code",
   "execution_count": null,
   "metadata": {
    "collapsed": true
   },
   "outputs": [],
   "source": [
    "# Question 3: (2 points)\n",
    "# given a number 'num', print if \n",
    "# the number is odd or even\n",
    "\n",
    "num = 4\n"
   ]
  },
  {
   "cell_type": "code",
   "execution_count": null,
   "metadata": {
    "collapsed": true
   },
   "outputs": [],
   "source": [
    "# Question 4: (3 points)\n",
    "# compute the mean of a list of numbers\n",
    "\n",
    "numbers = [3,4,5,2,3,8,7,6,4,5,1,2,3]\n"
   ]
  },
  {
   "cell_type": "code",
   "execution_count": null,
   "metadata": {
    "collapsed": true
   },
   "outputs": [],
   "source": [
    "# Question 5: (3 points)\n",
    "# compute the standard deviation of a list of numbers\n",
    "\n",
    "numbers = [3,4,5,2,3,8,7,6,4,5,1,2,3]\n"
   ]
  },
  {
   "cell_type": "code",
   "execution_count": null,
   "metadata": {
    "collapsed": true
   },
   "outputs": [],
   "source": [
    "# Question 6: (3 points)\n",
    "# create a list containing all elements  \n",
    "# from a list of numbers less than 'n'\n",
    "# print the list\n",
    "\n",
    "numbers = [3,4,5,2,3,8,7,6,4,5,1,2,3]\n",
    "n = 4\n",
    "subset = []\n"
   ]
  },
  {
   "cell_type": "code",
   "execution_count": null,
   "metadata": {
    "collapsed": true
   },
   "outputs": [],
   "source": [
    "# Question 7: (5 points)\n",
    "# determine the median of a list of numbers\n",
    "# hint: what do you do if there are an even\n",
    "# number of elements in the list?\n",
    "\n",
    "numbers = [3,4,5,2,3,8,7,6,4,5,1,2,3]\n"
   ]
  },
  {
   "cell_type": "code",
   "execution_count": null,
   "metadata": {
    "collapsed": true
   },
   "outputs": [],
   "source": [
    "# Question 8: (5 points)\n",
    "# create a dictionary 'counts' where the keys\n",
    "# are the elements of a list and the values are\n",
    "# the frequency of each element in the list\n",
    "\n",
    "colors = ['red','blue','green','black','red','pink','blue','green','red','pink']\n",
    "counts = {}\n"
   ]
  },
  {
   "cell_type": "code",
   "execution_count": null,
   "metadata": {
    "collapsed": true
   },
   "outputs": [],
   "source": [
    "# Question 9: (5 points)\n",
    "# create a stem and leaf plot of a list of number\n",
    "# hint: you can reuse some of the code from the previous question\n",
    "\n",
    "numbers = [3,4,5,2,3,8,7,6,4,5,1,2,3]\n"
   ]
  },
  {
   "cell_type": "code",
   "execution_count": null,
   "metadata": {
    "collapsed": true
   },
   "outputs": [],
   "source": [
    "# Question 10: (10 points)\n",
    "# create a list containing the first 'n' \n",
    "# elements of the Fibinachi sequence.\n",
    "\n",
    "n = 10\n",
    "fibinachi = []\n"
   ]
  }
 ],
 "metadata": {
  "kernelspec": {
   "display_name": "Python 2",
   "language": "python",
   "name": "python2"
  },
  "language_info": {
   "codemirror_mode": {
    "name": "ipython",
    "version": 2
   },
   "file_extension": ".py",
   "mimetype": "text/x-python",
   "name": "python",
   "nbconvert_exporter": "python",
   "pygments_lexer": "ipython2",
   "version": "2.7.14"
  }
 },
 "nbformat": 4,
 "nbformat_minor": 2
}
