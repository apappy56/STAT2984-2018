{
 "cells": [
  {
   "cell_type": "code",
   "execution_count": 4,
   "metadata": {},
   "outputs": [
    {
     "name": "stdout",
     "output_type": "stream",
     "text": [
      "16\n"
     ]
    }
   ],
   "source": [
    "# Debigging Activity --\n",
    "# Though all of the code below works, \n",
    "# however, the code does not perform as expected\n",
    "# Will go over questions on Thursday April 12\n",
    "\n",
    "# Question 1\n",
    "# compute the mean of data\n",
    "\n",
    "data = [3,56,13,18,2,15,13,10]\n",
    "average = sum(data)/len(data)\n",
    "print average"
   ]
  },
  {
   "cell_type": "code",
   "execution_count": 5,
   "metadata": {},
   "outputs": [
    {
     "name": "stdout",
     "output_type": "stream",
     "text": [
      "['East', 'East', 'East', 'East', 'East', 'East']\n"
     ]
    }
   ],
   "source": [
    "# Question 2\n",
    "# Add 'East' to the start of all country names\n",
    "countries = ['Canada','United States','Spain','Germany','Brazil','China']\n",
    "\n",
    "eastern_countries = []\n",
    "for country in countries:\n",
    "    eastern_countries.append('East')\n",
    "\n",
    "print eastern_countries"
   ]
  },
  {
   "cell_type": "code",
   "execution_count": 6,
   "metadata": {},
   "outputs": [
    {
     "name": "stdout",
     "output_type": "stream",
     "text": [
      "{'A': 75, 'C': 75, 'B': 56, 'E': 28, 'D': 20, 'G': 44, 'F': 10}\n"
     ]
    }
   ],
   "source": [
    "# Question 3\n",
    "# Make a dictionary with factors as keys\n",
    "# and a list of values associated with each factor\n",
    "\n",
    "factor_list = ['A','B','A','D','C','E','E','D','C','D',\n",
    "               'C','B','E','D','F','G','E','D','F','C',\n",
    "               'G','C','C','F']\n",
    "values_list = [19,61,75,66,28,43,52,35,66,86,44,56,1,93,27,47,28,20,12,73,44,32,75,10] \n",
    "\n",
    "data_dict = {}\n",
    "for i,f in enumerate(factor_list):\n",
    "    data_dict[f] = values_list[i]\n",
    "\n",
    "print data_dict"
   ]
  },
  {
   "cell_type": "code",
   "execution_count": 7,
   "metadata": {},
   "outputs": [
    {
     "name": "stdout",
     "output_type": "stream",
     "text": [
      "A"
     ]
    },
    {
     "ename": "TypeError",
     "evalue": "'int' object is not iterable",
     "output_type": "error",
     "traceback": [
      "\u001b[0;31m---------------------------------------------------------------------------\u001b[0m",
      "\u001b[0;31mTypeError\u001b[0m                                 Traceback (most recent call last)",
      "\u001b[0;32m<ipython-input-7-69eb10c2bd21>\u001b[0m in \u001b[0;36m<module>\u001b[0;34m()\u001b[0m\n\u001b[1;32m      5\u001b[0m \u001b[0mi\u001b[0m \u001b[0;34m=\u001b[0m \u001b[0;34m'A'\u001b[0m\u001b[0;34m\u001b[0m\u001b[0m\n\u001b[1;32m      6\u001b[0m \u001b[0;32mfor\u001b[0m \u001b[0mk\u001b[0m \u001b[0;32min\u001b[0m \u001b[0mdata_dict\u001b[0m\u001b[0;34m.\u001b[0m\u001b[0mkeys\u001b[0m\u001b[0;34m(\u001b[0m\u001b[0;34m)\u001b[0m\u001b[0;34m:\u001b[0m\u001b[0;34m\u001b[0m\u001b[0m\n\u001b[0;32m----> 7\u001b[0;31m     \u001b[0;32mprint\u001b[0m \u001b[0mi\u001b[0m\u001b[0;34m,\u001b[0m \u001b[0msum\u001b[0m\u001b[0;34m(\u001b[0m\u001b[0mdata_dict\u001b[0m\u001b[0;34m[\u001b[0m\u001b[0mi\u001b[0m\u001b[0;34m]\u001b[0m\u001b[0;34m)\u001b[0m\u001b[0;34m/\u001b[0m\u001b[0mlen\u001b[0m\u001b[0;34m(\u001b[0m\u001b[0mdata_dict\u001b[0m\u001b[0;34m[\u001b[0m\u001b[0mi\u001b[0m\u001b[0;34m]\u001b[0m\u001b[0;34m)\u001b[0m\u001b[0;34m\u001b[0m\u001b[0m\n\u001b[0m",
      "\u001b[0;31mTypeError\u001b[0m: 'int' object is not iterable"
     ]
    }
   ],
   "source": [
    "# Question 4\n",
    "# Print the mean of values for each factor\n",
    "# Note: this can only be completed after questions 1&3 are complete\n",
    "\n",
    "i = 'A'\n",
    "for k in data_dict.keys():\n",
    "    print i, sum(data_dict[i])/len(data_dict[i])"
   ]
  },
  {
   "cell_type": "code",
   "execution_count": 9,
   "metadata": {},
   "outputs": [
    {
     "name": "stdout",
     "output_type": "stream",
     "text": [
      "None\n"
     ]
    }
   ],
   "source": [
    "# Question 5\n",
    "# Create a function that returns the smallest 2 elements in a list\n",
    "\n",
    "def min_two(data):\n",
    "    values = sorted(data)[:2]\n",
    "    return\n",
    "\n",
    "values_list = [19,61,75,66,28,43,52,35,66,86,44,56,1,93,27,47,28,20,12,73,44,32,75,10] \n",
    "print min_two(values_list)"
   ]
  },
  {
   "cell_type": "code",
   "execution_count": 14,
   "metadata": {},
   "outputs": [
    {
     "name": "stdout",
     "output_type": "stream",
     "text": [
      "Minimum: 1\n",
      "Maximum: 93\n",
      "Mean:    45\n"
     ]
    }
   ],
   "source": [
    "# Question 6\n",
    "# Create a function that reutrns the min, max, and mean of a list \n",
    "\n",
    "def summarize(data):\n",
    "    min = min(data)\n",
    "    max = max(data)\n",
    "    mean = sum(data)/len(data)\n",
    "    return min, max, mean\n",
    "\n",
    "values_list = [19,61,75,66,28,43,52,35,66,86,44,56,1,93,27,47,28,20,12,73,44,32,75,10] \n",
    "min, max, mean = summarize(values_list)\n",
    "\n",
    "print \"Minimum:\", min\n",
    "print \"Maximum:\", max\n",
    "print \"Mean:   \",mean"
   ]
  },
  {
   "cell_type": "code",
   "execution_count": null,
   "metadata": {
    "collapsed": true
   },
   "outputs": [],
   "source": []
  }
 ],
 "metadata": {
  "kernelspec": {
   "display_name": "Python 2",
   "language": "python",
   "name": "python2"
  },
  "language_info": {
   "codemirror_mode": {
    "name": "ipython",
    "version": 2
   },
   "file_extension": ".py",
   "mimetype": "text/x-python",
   "name": "python",
   "nbconvert_exporter": "python",
   "pygments_lexer": "ipython2",
   "version": "2.7.14"
  }
 },
 "nbformat": 4,
 "nbformat_minor": 2
}
